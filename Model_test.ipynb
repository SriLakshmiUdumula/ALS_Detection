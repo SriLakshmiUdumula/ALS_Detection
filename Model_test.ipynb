{
 "cells": [
  {
   "cell_type": "code",
   "execution_count": 6,
   "id": "a1a9ce41-7557-4beb-8193-0e7aec03b04e",
   "metadata": {},
   "outputs": [],
   "source": [
    "import parselmouth\n",
    "import numpy as np\n",
    "from parselmouth.praat import call\n",
    "import glob\n",
    "import pandas as pd\n",
    "\n",
    "def extract_features(audio_path):\n",
    "    snd = parselmouth.Sound(audio_path)\n",
    "\n",
    "    # Compute fundamental frequency (F0)\n",
    "    pitch = snd.to_pitch()\n",
    "    f0_values = pitch.selected_array['frequency']\n",
    "    f0_values = f0_values[f0_values > 0]\n",
    "\n",
    "    meanF0 = np.mean(f0_values) if len(f0_values) > 0 else 0\n",
    "    stdevF0 = np.std(f0_values) if len(f0_values) > 0 else 0\n",
    "\n",
    "    # Compute Harmonics-to-Noise Ratio (HNR)\n",
    "    hnr = snd.to_harmonicity()\n",
    "    hnr_values = hnr.values[hnr.values > 0]\n",
    "    meanHNR = np.mean(hnr_values) if len(hnr_values) > 0 else 0\n",
    "\n",
    "    # Compute Jitter & Shimmer (Handle errors)\n",
    "    pointProcess = parselmouth.praat.call(snd, \"To PointProcess (periodic, cc)\", 75, 300)\n",
    "    localJitter = call(pointProcess, \"Get jitter (local)\", 0, 0, 0.0001, 0.02, 1.3)\n",
    "    localShimmer =  call([snd, pointProcess], \"Get shimmer (local)\", 0, 0, 0.0001, 0.02, 1.3, 1.6)\n",
    "    return {\n",
    "        \"meanF0Hz\": meanF0,\n",
    "        \"stdevF0Hz\": stdevF0,\n",
    "        \"HNR\": meanHNR,\n",
    "        \"localJitter\": localJitter,\n",
    "        \"localShimmer\": localShimmer\n",
    "    }\n",
    "    \n",
    "\n",
    "# Example usage\n",
    "# features = extract_features(\"CT001_phonationA.wav\")\n",
    "# print(features)"
   ]
  },
  {
   "cell_type": "code",
   "execution_count": 163,
   "id": "b61489c5-c487-41c5-afdc-3080a227ee3f",
   "metadata": {},
   "outputs": [
    {
     "name": "stdin",
     "output_type": "stream",
     "text": [
      "Enter Age:  36\n",
      "Enter Sex (M/F):  M\n"
     ]
    },
    {
     "name": "stdout",
     "output_type": "stream",
     "text": [
      "\n",
      "Upload file for phonation/rhythm: A\n",
      "\n",
      "Upload file for phonation/rhythm: E\n",
      "\n",
      "Upload file for phonation/rhythm: I\n",
      "\n",
      "Upload file for phonation/rhythm: O\n",
      "\n",
      "Upload file for phonation/rhythm: U\n",
      "\n",
      "Upload file for phonation/rhythm: PA\n",
      "\n",
      "Upload file for phonation/rhythm: TA\n",
      "\n",
      "Upload file for phonation/rhythm: KA\n",
      "\n",
      "Extracted Features:\n",
      "  Age (years) Sex  meanF0Hz_A  stdevF0Hz_A      HNR_A  localJitter_A  \\\n",
      "0          36   M  132.727707     3.394081  13.880769       0.005547   \n",
      "\n",
      "   localShimmer_A  meanF0Hz_E  stdevF0Hz_E      HNR_E  ...  meanF0Hz_TA  \\\n",
      "0        0.058267   146.16624     3.360383  12.372608  ...   168.362888   \n",
      "\n",
      "   stdevF0Hz_TA     HNR_TA  localJitter_TA  localShimmer_TA  meanF0Hz_KA  \\\n",
      "0      5.067805  13.260158        0.013345         0.086907   168.201467   \n",
      "\n",
      "   stdevF0Hz_KA     HNR_KA  localJitter_KA  localShimmer_KA  \n",
      "0      5.079586  12.261247        0.014937         0.113921  \n",
      "\n",
      "[1 rows x 42 columns]\n",
      "\n",
      "Saved as 'voice_features_person.csv'\n"
     ]
    }
   ],
   "source": [
    "import os\n",
    "import pandas as pd\n",
    "from tkinter import Tk\n",
    "from tkinter.filedialog import askopenfilenames\n",
    "\n",
    "# Your extract_features function should be defined earlier\n",
    "\n",
    "# Helper to open file dialog\n",
    "def select_files():\n",
    "    root = Tk()\n",
    "    root.withdraw()\n",
    "    root.call('wm', 'attributes', '.', '-topmost', True)\n",
    "    return askopenfilenames(title=\"Select Audio File\", filetypes=[(\"WAV files\", \"*.wav\")])\n",
    "\n",
    "# Labels for each of the 8 files (based on your dataset)\n",
    "file_labels = ['A', 'E', 'I', 'O', 'U', 'PA', 'TA', 'KA']\n",
    "\n",
    "# Collect info and process\n",
    "if __name__ == \"__main__\":\n",
    "    # Create an empty list to hold rows\n",
    "    rows = []\n",
    "\n",
    "    # Collect meta info\n",
    "    age = input(\"Enter Age: \")\n",
    "    sex = input(\"Enter Sex (M/F): \")\n",
    "\n",
    "    person_data = {\n",
    "        \"Age (years)\": age,\n",
    "        \"Sex\": sex\n",
    "    }\n",
    "\n",
    "    for i, label in enumerate(file_labels):\n",
    "        print(f\"\\nUpload file for phonation/rhythm: {label}\")\n",
    "        file_paths = select_files()\n",
    "        if file_paths and len(file_paths) > 0:\n",
    "            file_path = str(file_paths[0])  # Use only the first selected file\n",
    "            try:\n",
    "                features = extract_features(file_path)\n",
    "                for feat, val in features.items():\n",
    "                    person_data[f\"{feat}_{label}\"] = val\n",
    "            except Exception as e:\n",
    "                print(f\"Error processing {label}: {e}\")\n",
    "\n",
    "    # Convert to DataFrame\n",
    "    final_df = pd.DataFrame([person_data])\n",
    "    print(\"\\nExtracted Features:\")\n",
    "    print(final_df)\n",
    "\n",
    "    # Save to CSV\n",
    "    final_df.to_csv(\"voice_features_person.csv\", index=False)\n",
    "    print(\"\\nSaved as 'voice_features_person.csv'\")\n"
   ]
  },
  {
   "cell_type": "code",
   "execution_count": 165,
   "id": "4da2c445-62f0-4bcd-acae-b8b0c8501c98",
   "metadata": {
    "scrolled": true
   },
   "outputs": [
    {
     "data": {
      "text/html": [
       "<div>\n",
       "<style scoped>\n",
       "    .dataframe tbody tr th:only-of-type {\n",
       "        vertical-align: middle;\n",
       "    }\n",
       "\n",
       "    .dataframe tbody tr th {\n",
       "        vertical-align: top;\n",
       "    }\n",
       "\n",
       "    .dataframe thead th {\n",
       "        text-align: right;\n",
       "    }\n",
       "</style>\n",
       "<table border=\"1\" class=\"dataframe\">\n",
       "  <thead>\n",
       "    <tr style=\"text-align: right;\">\n",
       "      <th></th>\n",
       "      <th>Age (years)</th>\n",
       "      <th>Sex</th>\n",
       "      <th>meanF0Hz_A</th>\n",
       "      <th>stdevF0Hz_A</th>\n",
       "      <th>HNR_A</th>\n",
       "      <th>localJitter_A</th>\n",
       "      <th>localShimmer_A</th>\n",
       "      <th>meanF0Hz_E</th>\n",
       "      <th>stdevF0Hz_E</th>\n",
       "      <th>HNR_E</th>\n",
       "      <th>...</th>\n",
       "      <th>meanF0Hz_TA</th>\n",
       "      <th>stdevF0Hz_TA</th>\n",
       "      <th>HNR_TA</th>\n",
       "      <th>localJitter_TA</th>\n",
       "      <th>localShimmer_TA</th>\n",
       "      <th>meanF0Hz_KA</th>\n",
       "      <th>stdevF0Hz_KA</th>\n",
       "      <th>HNR_KA</th>\n",
       "      <th>localJitter_KA</th>\n",
       "      <th>localShimmer_KA</th>\n",
       "    </tr>\n",
       "  </thead>\n",
       "  <tbody>\n",
       "    <tr>\n",
       "      <th>0</th>\n",
       "      <td>36</td>\n",
       "      <td>M</td>\n",
       "      <td>132.727707</td>\n",
       "      <td>3.394081</td>\n",
       "      <td>13.880769</td>\n",
       "      <td>0.005547</td>\n",
       "      <td>0.058267</td>\n",
       "      <td>146.16624</td>\n",
       "      <td>3.360383</td>\n",
       "      <td>12.372608</td>\n",
       "      <td>...</td>\n",
       "      <td>168.362888</td>\n",
       "      <td>5.067805</td>\n",
       "      <td>13.260158</td>\n",
       "      <td>0.013345</td>\n",
       "      <td>0.086907</td>\n",
       "      <td>168.201467</td>\n",
       "      <td>5.079586</td>\n",
       "      <td>12.261247</td>\n",
       "      <td>0.014937</td>\n",
       "      <td>0.113921</td>\n",
       "    </tr>\n",
       "  </tbody>\n",
       "</table>\n",
       "<p>1 rows × 42 columns</p>\n",
       "</div>"
      ],
      "text/plain": [
       "  Age (years) Sex  meanF0Hz_A  stdevF0Hz_A      HNR_A  localJitter_A  \\\n",
       "0          36   M  132.727707     3.394081  13.880769       0.005547   \n",
       "\n",
       "   localShimmer_A  meanF0Hz_E  stdevF0Hz_E      HNR_E  ...  meanF0Hz_TA  \\\n",
       "0        0.058267   146.16624     3.360383  12.372608  ...   168.362888   \n",
       "\n",
       "   stdevF0Hz_TA     HNR_TA  localJitter_TA  localShimmer_TA  meanF0Hz_KA  \\\n",
       "0      5.067805  13.260158        0.013345         0.086907   168.201467   \n",
       "\n",
       "   stdevF0Hz_KA     HNR_KA  localJitter_KA  localShimmer_KA  \n",
       "0      5.079586  12.261247        0.014937         0.113921  \n",
       "\n",
       "[1 rows x 42 columns]"
      ]
     },
     "execution_count": 165,
     "metadata": {},
     "output_type": "execute_result"
    }
   ],
   "source": [
    "final_df"
   ]
  },
  {
   "cell_type": "code",
   "execution_count": 167,
   "id": "b111da08-3b6b-4376-b263-2df8a7474b0f",
   "metadata": {},
   "outputs": [],
   "source": [
    "final_df['Sex'] = final_df['Sex'].map({'M': 0, 'F': 1})"
   ]
  },
  {
   "cell_type": "code",
   "execution_count": 169,
   "id": "68ea061d-7da5-48ad-873a-579ae0823825",
   "metadata": {},
   "outputs": [],
   "source": [
    "from sklearn.preprocessing import StandardScaler"
   ]
  },
  {
   "cell_type": "code",
   "execution_count": 171,
   "id": "bf02f13a-cd73-4865-8255-24964e437278",
   "metadata": {},
   "outputs": [],
   "source": [
    "feature_columns = final_df.columns.drop([])  # drop nothing if you want to include all\n",
    "X = final_df[feature_columns]\n",
    "with open(\"als_scaler2.pkl\", \"rb\") as f:\n",
    "    scaler = pickle.load(f)\n",
    "X_scaled = scaler.transform(X)  # use .transform() if using a saved scaler"
   ]
  },
  {
   "cell_type": "code",
   "execution_count": 173,
   "id": "ccd6bbbc-2108-4e26-b615-8c935fee7b93",
   "metadata": {},
   "outputs": [],
   "source": [
    "import pandas as pd\n",
    "import pickle\n",
    "\n",
    "# Step 1: Load your trained XGBoost model\n",
    "with open(\"xgb_model_rem.pkl\", \"rb\") as f:\n",
    "    model = pickle.load(f)"
   ]
  },
  {
   "cell_type": "code",
   "execution_count": 153,
   "id": "006e0786-1e9a-4c26-b478-2092a9ef1d8c",
   "metadata": {},
   "outputs": [],
   "source": [
    "import joblib\n",
    "model = joblib.load(\"model_rem.pkl\")"
   ]
  },
  {
   "cell_type": "code",
   "execution_count": 175,
   "id": "15c57d7d-00a2-4dba-8b07-7e56fe0c335d",
   "metadata": {},
   "outputs": [],
   "source": [
    "prediction = model.predict(X_scaled)"
   ]
  },
  {
   "cell_type": "code",
   "execution_count": 177,
   "id": "4b2ffc09-96e5-456a-b2f2-4587df03bbdf",
   "metadata": {},
   "outputs": [
    {
     "data": {
      "text/plain": [
       "array([0])"
      ]
     },
     "execution_count": 177,
     "metadata": {},
     "output_type": "execute_result"
    }
   ],
   "source": [
    "prediction"
   ]
  },
  {
   "cell_type": "code",
   "execution_count": 179,
   "id": "04e5af44-26d1-4e49-8e23-838817d6022d",
   "metadata": {},
   "outputs": [
    {
     "name": "stdout",
     "output_type": "stream",
     "text": [
      "[[0.54225826 0.45774174]]\n"
     ]
    }
   ],
   "source": [
    "prediction_probs = model.predict_proba(X_scaled)\n",
    "print(prediction_probs)  # e.g., [[0.85 0.15]]"
   ]
  },
  {
   "cell_type": "code",
   "execution_count": null,
   "id": "dfef3516-7642-4eb5-98a9-a368c53c4474",
   "metadata": {},
   "outputs": [],
   "source": []
  },
  {
   "cell_type": "code",
   "execution_count": null,
   "id": "ae1b0b22-8f14-4c21-a76b-4cc81283afbf",
   "metadata": {},
   "outputs": [],
   "source": []
  }
 ],
 "metadata": {
  "kernelspec": {
   "display_name": "Python 3 (ipykernel)",
   "language": "python",
   "name": "python3"
  },
  "language_info": {
   "codemirror_mode": {
    "name": "ipython",
    "version": 3
   },
   "file_extension": ".py",
   "mimetype": "text/x-python",
   "name": "python",
   "nbconvert_exporter": "python",
   "pygments_lexer": "ipython3",
   "version": "3.12.4"
  }
 },
 "nbformat": 4,
 "nbformat_minor": 5
}
